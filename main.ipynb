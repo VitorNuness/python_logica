{
 "cells": [
  {
   "cell_type": "markdown",
   "metadata": {},
   "source": [
    "1) Observe o trecho de código abaixo: int INDICE = 13, SOMA = 0, K = 0;  Enquanto K < INDICE faça { K = K + 1; SOMA = SOMA + K; } Imprimir(SOMA);  Ao final do processamento, qual será o valor da variável SOMA? "
   ]
  },
  {
   "cell_type": "code",
   "execution_count": 7,
   "metadata": {},
   "outputs": [
    {
     "name": "stdout",
     "output_type": "stream",
     "text": [
      "O valor de SOMA é 91\n"
     ]
    }
   ],
   "source": [
    "indice = 13\n",
    "soma = 0\n",
    "k = 0\n",
    "while k < indice:\n",
    "    k = k + 1\n",
    "    soma = soma + k\n",
    "print(\"O valor de SOMA é\", soma)"
   ]
  },
  {
   "cell_type": "markdown",
   "metadata": {},
   "source": [
    "2) Dado a sequência de Fibonacci, onde se inicia por 0 e 1 e o próximo valor sempre será a soma dos 2 valores anteriores (exemplo: 0, 1, 1, 2, 3, 5, 8, 13, 21, 34...), escreva um programa na linguagem que desejar onde, informado um número, ele calcule a sequência de Fibonacci e retorne uma mensagem avisando se o número informado pertence ou não a sequência.\n",
    "\n",
    "IMPORTANTE: Esse número pode ser informado através de qualquer entrada de sua preferência ou pode ser previamente definido no código;  "
   ]
  },
  {
   "cell_type": "code",
   "execution_count": 8,
   "metadata": {},
   "outputs": [
    {
     "name": "stdout",
     "output_type": "stream",
     "text": [
      "O número está na sequência!\n"
     ]
    }
   ],
   "source": [
    "n = 13\n",
    "sequence = [0, 1]\n",
    "while sequence[-1] < n:\n",
    "    next_number = sequence[-1] + sequence[-2]\n",
    "    sequence.append(next_number)\n",
    "if sequence[-1] == n:\n",
    "    print(\"O número está na sequência!\")\n",
    "else:\n",
    "    print(\"O número não está na sequência.\")"
   ]
  },
  {
   "cell_type": "markdown",
   "metadata": {},
   "source": [
    "3) Dado um vetor que guarda o valor de faturamento diário de uma distribuidora, faça um programa, na linguagem que desejar, que calcule e retorne:\n",
    "    - O menor valor de faturamento ocorrido em um dia do mês;\n",
    "    - O maior valor de faturamento ocorrido em um dia do mês;\n",
    "    - Número de dias no mês em que o valor de faturamento diário foi superior à média mensal.\n",
    "\n",
    "IMPORTANTE:\n",
    "\n",
    "a) Usar o json ou xml disponível como fonte dos dados do faturamento mensal;\n",
    "\n",
    "b) Podem existir dias sem faturamento, como nos finais de semana e feriados. Estes dias devem ser ignorados no cálculo da média;  "
   ]
  },
  {
   "cell_type": "code",
   "execution_count": 23,
   "metadata": {},
   "outputs": [
    {
     "name": "stdout",
     "output_type": "stream",
     "text": [
      "O menor faturamento foi de: 13200\n",
      "O maior faturamento foi de: 20000\n",
      "Número de dias no mês em que o valor de faturamento diário foi superior a média mensal: [2, 4, 8, 10, 12, 15, 16, 18, 22, 23, 26, 30]\n"
     ]
    }
   ],
   "source": [
    "import json\n",
    "with open('faturamento.json', 'r') as arquivo:\n",
    "    dados = json.load(arquivo)\n",
    "faturamento_total = dados[\"faturamento_mensal\"][\"total_mensal\"]\n",
    "dias = [dia for dia in dados['faturamento_mensal']['dias'] if dia['faturamento'] > 0]\n",
    "menor_faturamento = min([dia['faturamento'] for dia in dias])\n",
    "maior_faturamento = max([dia['faturamento'] for dia in dias])\n",
    "media_mensal = round(sum([dia['faturamento'] for dia in dias]) / len(dias),2)\n",
    "print(\"O menor faturamento foi de:\", menor_faturamento)\n",
    "print(\"O maior faturamento foi de:\", maior_faturamento)\n",
    "dias_superiores_a_media_mensal = [dia['dia'] for dia in dias if dia['faturamento'] > media_mensal]\n",
    "print(\"Número de dias no mês em que o valor de faturamento diário foi superior a média mensal:\", dias_superiores_a_media_mensal)"
   ]
  },
  {
   "cell_type": "markdown",
   "metadata": {},
   "source": [
    "4) Dado o valor de faturamento mensal de uma distribuidora, detalhado por estado:\n",
    "    - SP – R$67.836,43\n",
    "    - RJ – R$36.678,66\n",
    "    - MG – R$29.229,88\n",
    "    - ES – R$27.165,48\n",
    "    - Outros – R$19.849,53\n",
    "    \n",
    "Escreva um programa na linguagem que desejar onde calcule o percentual de representação que cada estado teve dentro do valor total mensal da distribuidora.   "
   ]
  },
  {
   "cell_type": "code",
   "execution_count": 42,
   "metadata": {},
   "outputs": [
    {
     "name": "stdout",
     "output_type": "stream",
     "text": [
      "   Estado  Faturamento  Percentual\n",
      "0      SP     67836.43        38.0\n",
      "1      RJ     36678.66        20.0\n",
      "2      MG     29229.88        16.0\n",
      "3      ES     27165.48        15.0\n",
      "4  Outros     19849.53        11.0\n"
     ]
    },
    {
     "data": {
      "image/png": "[encoded data removed]",
      "text/plain": [
       "<Figure size 400x400 with 1 Axes>"
      ]
     },
     "metadata": {},
     "output_type": "display_data"
    }
   ],
   "source": [
    "import pandas as pd\n",
    "import matplotlib.pyplot as plt\n",
    "data = {\n",
    "    'Estado': ['SP', 'RJ', 'MG', 'ES', 'Outros'],\n",
    "    'Faturamento': [67836.43, 36678.66, 29229.88, 27165.48, 19849.53]\n",
    "}\n",
    "df = pd.DataFrame(data)\n",
    "faturamento_total = df['Faturamento'].sum()\n",
    "df['Percentual'] = round((df['Faturamento'] / faturamento_total) * 100)\n",
    "print(df)\n",
    "plt.figure(figsize=(4, 4))\n",
    "plt.pie(df['Percentual'], labels=df['Estado'], autopct='%1f%%')\n",
    "plt.title('Percentual de Representação por Estado')\n",
    "plt.show()"
   ]
  },
  {
   "cell_type": "markdown",
   "metadata": {},
   "source": [
    "5) Escreva um programa que inverta os caracteres de um string.\n",
    "\n",
    "IMPORTANTE:\n",
    "\n",
    "a) Essa string pode ser informada através de qualquer entrada de sua preferência ou pode ser previamente definida no código;\n",
    "\n",
    "b) Evite usar funções prontas, como, por exemplo, reverse;  "
   ]
  },
  {
   "cell_type": "code",
   "execution_count": 38,
   "metadata": {},
   "outputs": [
    {
     "name": "stdout",
     "output_type": "stream",
     "text": [
      "socorram me subino on ibus em marrocos\n"
     ]
    }
   ],
   "source": [
    "palavra = \"socorram me subi no onibus em marrocos\"\n",
    "letras = [letra for letra in palavra]\n",
    "letras_invertidas = []\n",
    "while letras:\n",
    "    letras_invertidas.append(letras.pop())\n",
    "print(\"\".join(letras_invertidas))"
   ]
  }
 ],
 "metadata": {
  "kernelspec": {
   "display_name": "Python 3",
   "language": "python",
   "name": "python3"
  },
  "language_info": {
   "codemirror_mode": {
    "name": "ipython",
    "version": 3
   },
   "file_extension": ".py",
   "mimetype": "text/x-python",
   "name": "python",
   "nbconvert_exporter": "python",
   "pygments_lexer": "ipython3",
   "version": "3.10.12"
  }
 },
 "nbformat": 4,
 "nbformat_minor": 2
}
